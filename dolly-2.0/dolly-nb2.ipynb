{
 "cells": [
  {
   "cell_type": "markdown",
   "id": "fe70658a",
   "metadata": {},
   "source": [
    "### Dolly 2.0 - NBv1\n",
    "\n",
    "For more information\n",
    "\n",
    "- https://www.databricks.com/blog/2023/04/12/dolly-first-open-commercially-viable-instruction-tuned-llm\n",
    "- https://huggingface.co/databricks/dolly-v2-12b"
   ]
  },
  {
   "cell_type": "code",
   "execution_count": 2,
   "id": "c37a8c27",
   "metadata": {},
   "outputs": [],
   "source": [
    "from dolly.instruct_pipeline import InstructionTextGenerationPipeline\n",
    "from transformers import AutoModelForCausalLM, AutoTokenizer\n",
    "import torch"
   ]
  },
  {
   "cell_type": "code",
   "execution_count": 3,
   "id": "82376b19",
   "metadata": {},
   "outputs": [],
   "source": [
    "tokenizer = AutoTokenizer.from_pretrained(\"databricks/dolly-v2-12b\", padding_side=\"left\")"
   ]
  },
  {
   "cell_type": "code",
   "execution_count": 4,
   "id": "7849ce6f",
   "metadata": {},
   "outputs": [],
   "source": [
    "model = AutoModelForCausalLM.from_pretrained(\"databricks/dolly-v2-12b\", torch_dtype=torch.bfloat16, device_map=\"auto\")"
   ]
  },
  {
   "cell_type": "code",
   "execution_count": 5,
   "id": "bb4cbce8",
   "metadata": {},
   "outputs": [],
   "source": [
    "#model.save_pretrained(\"./model\")"
   ]
  },
  {
   "cell_type": "code",
   "execution_count": 6,
   "id": "5864db8e",
   "metadata": {},
   "outputs": [],
   "source": [
    "generate_text = InstructionTextGenerationPipeline(model=model, tokenizer=tokenizer)"
   ]
  },
  {
   "cell_type": "code",
   "execution_count": 7,
   "id": "af79b0d8",
   "metadata": {},
   "outputs": [
    {
     "data": {
      "text/plain": [
       "'Nuclear fusion occurs when two light atomic nuclei fuse together to form a heavier nucleus. This process releases energy in the form of aphoton and a relatively small amount of mass energy. This process is what powers our sun, and to a lesser extent, how nuclear fission works in the touch of this topic. Nuclear fission involves the splitting of an atomic nucleus into two or more smaller pieces, each with a fraction of the original mass and the total mass. This process releases a lot of energy in the form of a powerful photon and a significantly larger amount of mass energy. These nuclear fragments often form new radioactive elements.'"
      ]
     },
     "execution_count": 7,
     "metadata": {},
     "output_type": "execute_result"
    }
   ],
   "source": [
    "generate_text(\"Explain to me the difference between nuclear fission and fusion.\")"
   ]
  },
  {
   "cell_type": "code",
   "execution_count": 8,
   "id": "cba3fad1",
   "metadata": {},
   "outputs": [
    {
     "data": {
      "text/plain": [
       "'Yes, 15 is a prime number. 15 is greater than 1 (and 2) but what makes it a prime number is that it has only 2 factors: 1 and 15. It is a special case of a general prime number theorem that for large n (the number you are dividing) the majority of the numbers are prime.'"
      ]
     },
     "execution_count": 8,
     "metadata": {},
     "output_type": "execute_result"
    }
   ],
   "source": [
    "generate_text(\"Is 15 a prime number, give me another prime number and also an explanation what prime number is.\")"
   ]
  },
  {
   "cell_type": "code",
   "execution_count": 9,
   "id": "e2a773a1",
   "metadata": {},
   "outputs": [
    {
     "data": {
      "text/plain": [
       "'def is_prime(n):\\n    if n == 2:\\n        return True\\n    elif n % 2 == 0:\\n        return False\\n    else:\\n        for i in range(3, int(n**0.5), 2):\\n            if i*i <= n:\\n                return False\\n            elif n % i == 0:\\n                return False\\n    return True\\n\\n\\nif is_prime(20):\\n    print(\"The number is a prime number\")\\n\\nA prime number is a number greater than 1 that is divisible by only 2 numbers. The definition of a prime number relies on there being an information gap between the number and it\\'s divisors. An integer is a prime number if it is only divided by 2 and itself. Python provides a is_prime() function that can be used to quickly determine if a number is a prime number. In this case, the function checks if the number is equal to 2 or if the number is a multiple of 3. If either of these tests fail, the function returns false. If all tests pass, the function returns true. If you want to check if a number is a prime number you can use the is_prime() function.'"
      ]
     },
     "execution_count": 9,
     "metadata": {},
     "output_type": "execute_result"
    }
   ],
   "source": [
    "output = generate_text(\"Write a python function that detects prime numbers\")\n",
    "output"
   ]
  },
  {
   "cell_type": "code",
   "execution_count": 10,
   "id": "8ba71034",
   "metadata": {},
   "outputs": [
    {
     "name": "stdout",
     "output_type": "stream",
     "text": [
      "def is_prime(n):\n",
      "    if n == 2:\n",
      "        return True\n",
      "    elif n % 2 == 0:\n",
      "        return False\n",
      "    else:\n",
      "        for i in range(3, int(n**0.5), 2):\n",
      "            if i*i <= n:\n",
      "                return False\n",
      "            elif n % i == 0:\n",
      "                return False\n",
      "    return True\n",
      "\n",
      "\n",
      "if is_prime(20):\n",
      "    print(\"The number is a prime number\")\n",
      "\n",
      "A prime number is a number greater than 1 that is divisible by only 2 numbers. The definition of a prime number relies on there being an information gap between the number and it's divisors. An integer is a prime number if it is only divided by 2 and itself. Python provides a is_prime() function that can be used to quickly determine if a number is a prime number. In this case, the function checks if the number is equal to 2 or if the number is a multiple of 3. If either of these tests fail, the function returns false. If all tests pass, the function returns true. If you want to check if a number is a prime number you can use the is_prime() function.\n"
     ]
    }
   ],
   "source": [
    "print(output)"
   ]
  },
  {
   "cell_type": "code",
   "execution_count": 21,
   "id": "0beeaf08",
   "metadata": {},
   "outputs": [
    {
     "name": "stdout",
     "output_type": "stream",
     "text": [
      "The number is a prime number\n"
     ]
    }
   ],
   "source": [
    "def is_prime(n):\n",
    "    if n == 2:\n",
    "        return True\n",
    "    elif n % 2 == 0:\n",
    "        return False\n",
    "    else:\n",
    "        for i in range(3, int(n**0.5), 2):\n",
    "            if i*i <= n:\n",
    "                return False\n",
    "            elif n % i == 0:\n",
    "                return False\n",
    "    return True\n",
    "\n",
    "\n",
    "if is_prime(15):\n",
    "    print(\"The number is a prime number\")\n",
    "else:\n",
    "    print(\"The number is NOT prime.\")"
   ]
  },
  {
   "cell_type": "code",
   "execution_count": 26,
   "id": "35c2df93",
   "metadata": {},
   "outputs": [
    {
     "data": {
      "text/plain": [
       "'The function seems to return 15 as a prime number, looks like there is some error, can you fix it?\\n\\nThe function seems to return 15 as a prime number looks like there is some error, can you fix it?\\n\\nThe function seems to return 15 as a prime number looks like there is some error, can you fix it?\\n\\nThe function seems to return 15 as a prime number, looks like there is some error, can you fix it?\\n\\nThe function seems to return 15 as a prime number, looks like there is some error, can you fix it?\\n\\nThe function seems to return 15 as a prime number, looks like there is some error, can you fix it?\\n\\nThe function seems to return 15 as a prime number, looks like there is some error, can you fix it?\\n\\nThe function seems to return 15 as a prime number, looks like there is some error, can you fix it?\\n\\nThe function seems to return 15 as a prime number, looks like there is some error, can you fix it?\\n\\nThe function seems to return 15 as a prime number, looks like there is some error, can you fix it?\\n\\nThe function seems to return 15 as a'"
      ]
     },
     "execution_count": 26,
     "metadata": {},
     "output_type": "execute_result"
    }
   ],
   "source": [
    "out = generate_text(\"instruction: the function that you've generated, seems to return 15 as a prime number, looks like there is some error, can you fix it? \\\n",
    "context: def is_prime(n):\\n    if n == 2:\\n        return True\\n    elif n % 2 == 0:\\n        return False\\n    else:\\n        for i in range(3, int(n**0.5), 2):\\n            if i*i <= n:\\n                return False\\n            elif n % i == 0:\\n                return False\\n    return True\\n\\n\\nif is_prime(20):\\n    print(\\\"The number is a prime number\\\")\\n\\nA prime number is a number greater than 1 that is divisible by only 2 numbers. The definition of a prime number relies on there being an information gap between the number and it\\'s divisors. An integer is a prime number if it is only divided by 2 and itself. Python provides a is_prime() function that can be used to quickly determine if a number is a prime number. In this case, the function checks if the number is equal to 2 or if the number is a multiple of 3. If either of these tests fail, the function returns false. If all tests pass, the function returns true. If you want to check if a number is a prime number you can use the is_prime() function.\")\n",
    "out"
   ]
  },
  {
   "cell_type": "code",
   "execution_count": 27,
   "id": "235f63ea",
   "metadata": {},
   "outputs": [
    {
     "name": "stdout",
     "output_type": "stream",
     "text": [
      "The function seems to return 15 as a prime number, looks like there is some error, can you fix it?\n",
      "\n",
      "The function seems to return 15 as a prime number looks like there is some error, can you fix it?\n",
      "\n",
      "The function seems to return 15 as a prime number looks like there is some error, can you fix it?\n",
      "\n",
      "The function seems to return 15 as a prime number, looks like there is some error, can you fix it?\n",
      "\n",
      "The function seems to return 15 as a prime number, looks like there is some error, can you fix it?\n",
      "\n",
      "The function seems to return 15 as a prime number, looks like there is some error, can you fix it?\n",
      "\n",
      "The function seems to return 15 as a prime number, looks like there is some error, can you fix it?\n",
      "\n",
      "The function seems to return 15 as a prime number, looks like there is some error, can you fix it?\n",
      "\n",
      "The function seems to return 15 as a prime number, looks like there is some error, can you fix it?\n",
      "\n",
      "The function seems to return 15 as a prime number, looks like there is some error, can you fix it?\n",
      "\n",
      "The function seems to return 15 as a\n"
     ]
    }
   ],
   "source": [
    "print(out)"
   ]
  },
  {
   "cell_type": "code",
   "execution_count": null,
   "id": "2089ed11",
   "metadata": {},
   "outputs": [],
   "source": []
  },
  {
   "cell_type": "code",
   "execution_count": null,
   "id": "cbfa84d7",
   "metadata": {},
   "outputs": [],
   "source": []
  },
  {
   "cell_type": "code",
   "execution_count": 36,
   "id": "fa2e39cc",
   "metadata": {},
   "outputs": [
    {
     "name": "stdout",
     "output_type": "stream",
     "text": [
      "Cloud computing benefits organizations in many ways. In fact, the benefits are so numerous that it makes it almost impossible not to consider moving business operations to a cloud-based platform. And yet many organizations rely on outdated and inefficient processes because they don’t understand the benefits.\n",
      "\n",
      "This article breaks down the top 10 benefits of cloud computing for all organizations considering adopting a cloud-based system.\n",
      "Accessibility anywhere, with any device\n",
      "\n",
      "each branch or office across various states or countries. The improved accessibility doesn’t just impact employees; clients and customers can also log in to an account and access their information as well. This ensures everyone has up-to-date information whether they’re at the office or on the go.\n",
      "Ability to get rid of most or all hardware and software\n",
      "\n",
      "With cloud computing, you’re no longer required to have your own server, cables, network switches, backup generators, redundant routers, and so on. Depending on the cloud provider you choose, they can manage all of this for a monthly fee. Reducing expenses is essential in any business model and every cloud-based platform benefits from this factor alone.\n",
      "Centralized data security\n",
      "\n",
      "When you use cloud computing, data backups are centralized in the cloud providers' data centers, removing the need for individual users or teams to maintain their own backups onsite or offsite. This lowers the risk of data loss should any one backup fail or be destroyed by a disaster. Cloud providers can restore the data from another copy maintained in their cloud storage, which is continuously updated with every piece of data added.\n",
      "\n",
      "Teams can take advantage of cloud security technologies such as data encryption and two-factor authentication for greater privacy than they'd have when relying on their own equipment or servers at home or in the office. Oracle uses a security-first cloud architecture with automated protection built in.\n",
      "Higher performance and availability\n",
      "\n",
      "By using cloud computing resources together simultaneously, you reap greater performance gains than by having your own dedicated server hardware. Cloud computing increases input/output operations per second (IOPS). Oracle cloud delivers as much as 20X the IOPS of Amazon Web Services.\n",
      "\n",
      "Learn about cloud computing economics\n",
      "\n",
      "Cloud services also offer high availability with no downtime because they’re distributed across multiple cloud facilities. Cloud providers are responsible for updating cloud systems and fixing bugs and security issues in cloud software, which is transparent to end users.\n",
      "Quick application deployment\n",
      "\n",
      "Unpredictable business needs often require cloud computing resources on short notice. You can improve your cloud application development by quickly deploying cloud applications because they are readily available without the need to procure additional hardware or wait for IT staff to set up servers.\n",
      "\n",
      "In addition you can choose from a broad range of services that support different types of cloud infrastructure technologies.\n",
      "Instant business insights\n",
      "\n",
      "Cloud-based platforms provide a unique opportunity to access data as soon as it’s collected. This facilitates better decision-making as well as insight into what the future may hold for your organization based on predictions from historical data.\n",
      "Business continuity\n",
      "\n",
      "In the event of disaster or unforeseen circumstances, do you have an effective backup plan? If not, relying on cloud computing services can benefit your organization. Cloud computing uses infinite data storage space and systems that can be activated remotely if necessary to ensure business continuity.\n",
      "Price-performance and cost savings\n",
      "\n",
      "Although an initial financial investment is required to implement a cloud strategy, organizations save substantial amounts in the long run because they don’t have to maintain expensive hardware or local data centers. Also, since there are no upfront costs to use cloud-based systems, businesses can test them out before investing in them at their own pace. Oracle provides price-performance and flexible sizing.\n",
      "\n",
      "Learn more about cloud pricing\n",
      "Virtualized computing\n",
      "\n",
      "Cloud computing is perfect for virtualized computer environments because cloud resources can be allocated instantly to support significant increases in demand so you never experience downtime again. With cloud computing, your business can expand its capabilities almost effortlessly to meet growing demands without increasing staff or capital expenditures.\n",
      "Cloud computing is greener\n",
      "\n",
      "Cloud computing is a greener technology than traditional IT solutions. By moving to the cloud, businesses can reduce their energy consumption and carbon footprint by up to 90%. Rather than having in-house servers and software, businesses can use cloud-based services to access the same applications and data from any computer or device with an internet connection. This eliminates the need for businesses to purchase and maintain their own IT infrastructure.\n",
      "\n",
      "If you're looking for a greener, more cost-effective way to deliver your IT services, consider moving to the cloud.\n"
     ]
    }
   ],
   "source": [
    "# Open the file for reading\n",
    "file_contents = \"\"\n",
    "with open('oracle-cloud.txt', 'r') as file:\n",
    "    # Read the contents of the file into a variable\n",
    "    file_contents = file.read()\n",
    "\n",
    "# Print the contents of the file\n",
    "print(file_contents)"
   ]
  },
  {
   "cell_type": "code",
   "execution_count": 34,
   "id": "938950e8",
   "metadata": {},
   "outputs": [
    {
     "name": "stdout",
     "output_type": "stream",
     "text": [
      "You get to use the best cloud infrastructure services from the industry leaders - Amazon and Microsoft, at absolutely no cost. You can deploy your own apps in docker or pay us to host them for you. Theoracle container instance is optimized for running java apps. We don’t believe in jumbitions and jumbo frames. So, our instances are fast and efficient. Also, we are continuously migrating your valuable data to a separate host machine to keep the data safe.\n",
      "\n",
      "As part of our small data practice, we provide white-labelled Percona Cloud Services on top of our infrastructure.\n",
      "You can use the service for free for 3 months and the cost starts after that. You can contact us for more information.\n"
     ]
    }
   ],
   "source": [
    "output = generate_text(\"Could you summarize the oracle cloud benefits and why we should use it?\")\n",
    "print(output)"
   ]
  },
  {
   "cell_type": "code",
   "execution_count": null,
   "id": "4ca3f622",
   "metadata": {},
   "outputs": [],
   "source": []
  },
  {
   "cell_type": "code",
   "execution_count": null,
   "id": "09ef9054",
   "metadata": {},
   "outputs": [],
   "source": []
  },
  {
   "cell_type": "code",
   "execution_count": 37,
   "id": "9a1e4e5d",
   "metadata": {},
   "outputs": [
    {
     "name": "stdout",
     "output_type": "stream",
     "text": [
      "In general terms, the cloud allows you to get rid of most or all hardware and software, allows you to get instant business insights, increases your business availability, allows you to reduce costs of owning and running data centers and provides better price/performance ratio compared to on-premise hardware and software solutions.\n"
     ]
    }
   ],
   "source": [
    "output = generate_text(f\"Could you summarize the Oracle Cloud benefits and why we should use it? Context: {file_contents}\")\n",
    "print(output)"
   ]
  },
  {
   "cell_type": "code",
   "execution_count": null,
   "id": "212bd31f",
   "metadata": {},
   "outputs": [],
   "source": []
  },
  {
   "cell_type": "code",
   "execution_count": null,
   "id": "c6b46e98",
   "metadata": {},
   "outputs": [],
   "source": []
  },
  {
   "cell_type": "code",
   "execution_count": 38,
   "id": "77cc3a9b",
   "metadata": {},
   "outputs": [
    {
     "name": "stdout",
     "output_type": "stream",
     "text": [
      "Oracle offers different types of cloud computing services, which are summarized below.\n",
      "1. Platform as a Service (PaaS): This is an all-inclusive cloud platform which you can use to develop and deploy applications on top of.\n",
      "2. Database as a Service (DBaaS): Oracle provides several database services in the cloud. For example, Oracle Database Cloud Service (ODBC), which allows you to run any traditional or cloud-based database in Oracle Database format on Oracle Cloud. With Oracle Zfinera Managed Security Services in the Oracle Cloud, you can extend the protection and governance of your cloud deployments from the cloud itself, with no additional hardware or administration costs.\n",
      "3. In-memory computing: This type of service lets you store data in memory and makes it available very quickly for processing. Oracle makes use of in-memory computing to provide real-time analytics and reporting for many use cases.\n",
      "You can get started with cloud computing by trying any of the following services.\n",
      "1. PaaS\n",
      "2. Database\n",
      "3. In-memory computing\n",
      "Depending on your business needs, you can gradually adopt more advanced cloud computing services.\n",
      "For more information, visit https://www.oracle.com/cloud/.\n"
     ]
    }
   ],
   "source": [
    "output = generate_text(f\"Could you summarize the Oracle Cloud benefits and why we should use it? Use following describtion as context: {file_contents}\")\n",
    "print(output)"
   ]
  },
  {
   "cell_type": "code",
   "execution_count": null,
   "id": "34f5cbf6",
   "metadata": {},
   "outputs": [],
   "source": []
  },
  {
   "cell_type": "code",
   "execution_count": null,
   "id": "c9ebd4c5",
   "metadata": {},
   "outputs": [],
   "source": []
  },
  {
   "cell_type": "code",
   "execution_count": 39,
   "id": "8563e538",
   "metadata": {},
   "outputs": [
    {
     "name": "stdout",
     "output_type": "stream",
     "text": [
      "The top 5 benefits of cloud computing for organizations considering adopting a cloud-based system are: Accessibility anywhere, with any device Ability to get rid of most or all hardware and software Centralized data security and higher performance and availability Quick application deployment business insights Instant business insights Business continuity, price-performance and cost savings Virtualized computing\n"
     ]
    }
   ],
   "source": [
    "output = generate_text(f\"Summarize the the top 5 benefits of using Oracle Cloud from the following text: {file_contents}\")\n",
    "print(output)"
   ]
  },
  {
   "cell_type": "code",
   "execution_count": null,
   "id": "facc0239",
   "metadata": {},
   "outputs": [],
   "source": []
  }
 ],
 "metadata": {
  "kernelspec": {
   "display_name": "Python [conda env:pytorch110_p38_gpu_v1]",
   "language": "python",
   "name": "conda-env-pytorch110_p38_gpu_v1-py"
  },
  "language_info": {
   "codemirror_mode": {
    "name": "ipython",
    "version": 3
   },
   "file_extension": ".py",
   "mimetype": "text/x-python",
   "name": "python",
   "nbconvert_exporter": "python",
   "pygments_lexer": "ipython3",
   "version": "3.8.13"
  }
 },
 "nbformat": 4,
 "nbformat_minor": 5
}
