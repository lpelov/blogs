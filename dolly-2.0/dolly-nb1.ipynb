{
 "cells": [
  {
   "cell_type": "markdown",
   "id": "d0919497",
   "metadata": {},
   "source": [
    "### Dolly 2.0 - NBv2\n",
    "\n",
    "For more information\n",
    "\n",
    "- https://www.databricks.com/blog/2023/04/12/dolly-first-open-commercially-viable-instruction-tuned-llm\n",
    "- https://huggingface.co/databricks/dolly-v2-12b"
   ]
  },
  {
   "cell_type": "code",
   "execution_count": 1,
   "id": "9e25ea32",
   "metadata": {},
   "outputs": [],
   "source": [
    "import torch\n",
    "from transformers import pipeline\n",
    "\n",
    "generate_text = pipeline(model=\"databricks/dolly-v2-12b\", torch_dtype=torch.bfloat16, trust_remote_code=True, device_map=\"auto\")"
   ]
  },
  {
   "cell_type": "code",
   "execution_count": 2,
   "id": "79a02dd2",
   "metadata": {},
   "outputs": [
    {
     "data": {
      "text/plain": [
       "[{'generated_text': 'Nuclear fusion occurs when two light atomic nuclei join together to form a heavier one. This process releases binding energy in the form of heat and light. Nuclear fusion takes place in the cores of stars like our sun, but here on earth, we can also trigger nuclear fusion in the laboratory by bombarding light atomic nuclei with slow neutrons.\\nNuclear fission is a process in which a light atomic nucleus splits into two or more smaller fragments. The nucleus of an atom is usually entirely encased in a positive electrical charge and is thus strongly held together. When a heavy atom splits into two or more pieces, some of the positive electrical charge is no longer attached to a single nucleus. This increased separation of the nuclei, called quantum excitation, permits the heavy nuclei to move around more freely and thus decreases the binding energy of the atom. As the binding energy decreases, more energy is released the this process is called fission. \\n\\nNuclear fission is usually thought of as a much faster process than nuclear fusion, but the reverse is actually true. It takes a lot of energy to initiate nuclear fusion, but when it occurs, it happens very rapidly. Nuclear fission is also quite energy intensive, but once initiated, the process slows down considerably.'}]"
      ]
     },
     "execution_count": 2,
     "metadata": {},
     "output_type": "execute_result"
    }
   ],
   "source": [
    "generate_text(\"Explain to me the difference between nuclear fission and fusion.\")"
   ]
  },
  {
   "cell_type": "code",
   "execution_count": 2,
   "id": "570af01c",
   "metadata": {},
   "outputs": [
    {
     "data": {
      "text/plain": [
       "[{'generated_text': 'Yes, 15 is a prime number. A prime number is a number that is only divisible by 1 and itself. 15 is the first prime number following 2 and 5. By definition, numbers that are not prime are called composite. 34 is a non-prime number because it is divided by 2 and 4.'}]"
      ]
     },
     "execution_count": 2,
     "metadata": {},
     "output_type": "execute_result"
    }
   ],
   "source": [
    "generate_text(\"Is 15 a prime number, give me another prime number and also an explanation what prime number is.\")"
   ]
  },
  {
   "cell_type": "code",
   "execution_count": 6,
   "id": "7bb11f8f",
   "metadata": {},
   "outputs": [
    {
     "data": {
      "text/plain": [
       "[{'generated_text': 'A number is prime if it is divided by 1 and it does not divide by any numbers greater than itself.\\n\\nFor example, 15 is a prime number because 15 divided by 1 equals 15 and 15 divided by 2 equals 7.5.\\n\\nYou can write a python function that detects if a number is prime by using the is_prime function from the math library.\\n\\nCode:\\nfrom math import is_prime\\n\\nnumber = 23\\n\\nif is_prime(number):\\n    print(\"The number\", number, \"is a prime number.\")'}]"
      ]
     },
     "execution_count": 6,
     "metadata": {},
     "output_type": "execute_result"
    }
   ],
   "source": [
    "output = generate_text(\"Write a python function that detects if a number is prime.\")\n",
    "output"
   ]
  },
  {
   "cell_type": "code",
   "execution_count": 7,
   "id": "4aab6fc6",
   "metadata": {},
   "outputs": [
    {
     "name": "stdout",
     "output_type": "stream",
     "text": [
      "A number is prime if it is divided by 1 and it does not divide by any numbers greater than itself.\n",
      "\n",
      "For example, 15 is a prime number because 15 divided by 1 equals 15 and 15 divided by 2 equals 7.5.\n",
      "\n",
      "You can write a python function that detects if a number is prime by using the is_prime function from the math library.\n",
      "\n",
      "Code:\n",
      "from math import is_prime\n",
      "\n",
      "number = 23\n",
      "\n",
      "if is_prime(number):\n",
      "    print(\"The number\", number, \"is a prime number.\")\n"
     ]
    }
   ],
   "source": [
    "print(output[0]['generated_text'])"
   ]
  },
  {
   "cell_type": "code",
   "execution_count": 8,
   "id": "6cde538e",
   "metadata": {},
   "outputs": [
    {
     "data": {
      "text/plain": [
       "[{'generated_text': 'def isPrime(n):\\n    if n < 2:\\n        return False\\n    else:\\n        for x in range(2, n+1):\\n            if n % x == 0:\\n                return False\\n        return True'}]"
      ]
     },
     "execution_count": 8,
     "metadata": {},
     "output_type": "execute_result"
    }
   ],
   "source": [
    "output = generate_text(\"Write a python function that gets a number as input and check if it is prime, return False if not and True if it's a prime number\")\n",
    "output"
   ]
  },
  {
   "cell_type": "code",
   "execution_count": 9,
   "id": "fed1ae6b",
   "metadata": {},
   "outputs": [
    {
     "name": "stdout",
     "output_type": "stream",
     "text": [
      "def isPrime(n):\n",
      "    if n < 2:\n",
      "        return False\n",
      "    else:\n",
      "        for x in range(2, n+1):\n",
      "            if n % x == 0:\n",
      "                return False\n",
      "        return True\n"
     ]
    }
   ],
   "source": [
    "print(output[0]['generated_text'])"
   ]
  },
  {
   "cell_type": "code",
   "execution_count": 16,
   "id": "24155ec9",
   "metadata": {},
   "outputs": [
    {
     "name": "stdout",
     "output_type": "stream",
     "text": [
      "False\n"
     ]
    }
   ],
   "source": [
    "def isPrime(n):\n",
    "    if n < 2:\n",
    "        return False\n",
    "    else:\n",
    "        for x in range(2, n+1):\n",
    "            if n % x == 0:\n",
    "                return False\n",
    "        return True\n",
    "\n",
    "\n",
    "print(isPrime(3))"
   ]
  },
  {
   "cell_type": "code",
   "execution_count": 25,
   "id": "b1d6b8fa",
   "metadata": {},
   "outputs": [
    {
     "name": "stdout",
     "output_type": "stream",
     "text": [
      "the function that you've generated, returne always False for every number, it seems that         it is not checking well if a number is prime, could you fix?             def isPrime(n):\n",
      "    if n < 2:\n",
      "        return False\n",
      "    else:\n",
      "        for x in range(2, n+1):\n",
      "            if n % x == 0:\n",
      "                return False\n",
      "        return True\n"
     ]
    }
   ],
   "source": [
    "input = f\"the function that you've generated, returne always False for every number, it seems that \\\n",
    "        it is not checking well if a number is prime, could you fix? \\\n",
    "            {output[0]['generated_text']}\"\n",
    "print(input)"
   ]
  },
  {
   "cell_type": "code",
   "execution_count": 26,
   "id": "e98ea09f",
   "metadata": {},
   "outputs": [
    {
     "data": {
      "text/plain": [
       "[{'generated_text': 'yes, it is checking if a number is prime, the problem is that n%x can be 0 even if n is not a prime, a better way to check if n is a prime is to check if n is divisible by its prime factors, the code could be :\\n    def isPrime(n):\\n        if n < 2:\\n            return False\\n        else:\\n            if n == 2:\\n                return True\\n            for x in range(2, n+1):\\n                if n % x == 0:\\n                    return False\\n            return True'}]"
      ]
     },
     "execution_count": 26,
     "metadata": {},
     "output_type": "execute_result"
    }
   ],
   "source": [
    "out = generate_text(input)\n",
    "out"
   ]
  },
  {
   "cell_type": "code",
   "execution_count": 27,
   "id": "30d6b1a0",
   "metadata": {},
   "outputs": [
    {
     "name": "stdout",
     "output_type": "stream",
     "text": [
      "yes, it is checking if a number is prime, the problem is that n%x can be 0 even if n is not a prime, a better way to check if n is a prime is to check if n is divisible by its prime factors, the code could be :\n",
      "    def isPrime(n):\n",
      "        if n < 2:\n",
      "            return False\n",
      "        else:\n",
      "            if n == 2:\n",
      "                return True\n",
      "            for x in range(2, n+1):\n",
      "                if n % x == 0:\n",
      "                    return False\n",
      "            return True\n"
     ]
    }
   ],
   "source": [
    "print(out[0]['generated_text'])"
   ]
  },
  {
   "cell_type": "code",
   "execution_count": 32,
   "id": "a13dafd8",
   "metadata": {},
   "outputs": [
    {
     "name": "stdout",
     "output_type": "stream",
     "text": [
      "False\n"
     ]
    }
   ],
   "source": [
    "def isPrime(n):\n",
    "    if n < 2:\n",
    "        return False\n",
    "    else:\n",
    "        if n == 2:\n",
    "            return True\n",
    "        for x in range(2, n-1):\n",
    "            if n % x == 0:\n",
    "                return False\n",
    "        return True\n",
    "    \n",
    "print(isPrime(7))"
   ]
  },
  {
   "cell_type": "code",
   "execution_count": 50,
   "id": "90c38d04",
   "metadata": {},
   "outputs": [
    {
     "data": {
      "text/plain": [
       "\"the function that you've generated, returne always False for every number, it seems that         it is not checking well if a number is prime, could you fix?             def isPrime(n):\\n    if n < 2:\\n        return False\\n    else:\\n        for x in range(2, n+1):\\n            if n % x == 0:\\n                return False\\n        return True[{'generated_text': 'yes, it is checking if a number is prime, the problem is that n%x can be 0 even if n is not a prime, a better way to check if n is a prime is to check if n is divisible by its prime factors, the code could be :\\\\n    def isPrime(n):\\\\n        if n < 2:\\\\n            return False\\\\n        else:\\\\n            if n == 2:\\\\n                return True\\\\n            for x in range(2, n+1):\\\\n                if n % x == 0:\\\\n                    return False\\\\n            return True'}]there is a still something wrong with the python function it return False for all numbers larger than 2\""
      ]
     },
     "execution_count": 50,
     "metadata": {},
     "output_type": "execute_result"
    }
   ],
   "source": [
    "inputs = f\"{input}\" + f\"{out}\" + \"there is a still something wrong with the python function \\\n",
    "it return False for all numbers larger than 2\"\n",
    "\n",
    "inputs"
   ]
  },
  {
   "cell_type": "code",
   "execution_count": 51,
   "id": "a1e1cd7b",
   "metadata": {},
   "outputs": [
    {
     "data": {
      "text/plain": [
       "[{'generated_text': \"Yes, that's correct, you're right, I didn't check if the number is divisible by its prime factors, that's right, thank you for the correction.\"}]"
      ]
     },
     "execution_count": 51,
     "metadata": {},
     "output_type": "execute_result"
    }
   ],
   "source": [
    "out2 = generate_text(inputs)\n",
    "out2"
   ]
  },
  {
   "cell_type": "code",
   "execution_count": 52,
   "id": "e61751c3",
   "metadata": {},
   "outputs": [
    {
     "name": "stdout",
     "output_type": "stream",
     "text": [
      "Yes, that's correct, you're right, I didn't check if the number is divisible by its prime factors, that's right, thank you for the correction.\n"
     ]
    }
   ],
   "source": [
    "print(out2[0]['generated_text'])"
   ]
  },
  {
   "cell_type": "code",
   "execution_count": 59,
   "id": "b9df9b12",
   "metadata": {},
   "outputs": [
    {
     "name": "stdout",
     "output_type": "stream",
     "text": [
      "True\n"
     ]
    }
   ],
   "source": [
    "def isPrime(n):\n",
    "    if n < 2:\n",
    "        return False\n",
    "    else:\n",
    "        if n == 2:\n",
    "            return True\n",
    "        for x in range(2, n+1):\n",
    "            if n % x == 0:\n",
    "                return False\n",
    "        return True\n",
    "\n",
    "# 2, 3, 5, 7, 11, 13, 17, 19, 23, 29\n",
    "print(isPrime(5))"
   ]
  },
  {
   "cell_type": "code",
   "execution_count": 60,
   "id": "cc9101e6",
   "metadata": {},
   "outputs": [
    {
     "name": "stdout",
     "output_type": "stream",
     "text": [
      "[{'generated_text': '1. Goldman Sachs\\n2. JP Morgan Chase\\n3. Bank of America\\n4. Citigroup\\n5. Wells Fargo'}]\n"
     ]
    }
   ],
   "source": [
    "output = generate_text(\"what are the top 5 biggest banks in USA\")\n",
    "print(output)"
   ]
  },
  {
   "cell_type": "code",
   "execution_count": null,
   "id": "6faca6b8",
   "metadata": {},
   "outputs": [],
   "source": []
  },
  {
   "cell_type": "code",
   "execution_count": null,
   "id": "4e77949f",
   "metadata": {},
   "outputs": [],
   "source": []
  },
  {
   "cell_type": "code",
   "execution_count": null,
   "id": "9b401ee9",
   "metadata": {},
   "outputs": [],
   "source": []
  },
  {
   "cell_type": "code",
   "execution_count": null,
   "id": "e356039b",
   "metadata": {},
   "outputs": [],
   "source": []
  },
  {
   "cell_type": "code",
   "execution_count": 61,
   "id": "1963da10",
   "metadata": {},
   "outputs": [
    {
     "name": "stdout",
     "output_type": "stream",
     "text": [
      "[{'generated_text': 'Cyber security risks such as malicious codes, computer viruses, unauthorized access, phishing, denial-of- service attacks and other security breaches affect many businesses.'}]\n"
     ]
    }
   ],
   "source": [
    "output = generate_text(\"Summarize the following text into one sentense?\\\n",
    "context: Cyber security risks\\\n",
    "We rely on technology in virtually all aspects of our business. Like those of many large businesses, certain of our information systems have been subject to computer viruses, malicious codes, unauthorized access, phishing efforts, denial-of- service attacks and other cyber-attacks. We expect to be subject to similar attacks in the future as such attacks become more sophisticated and frequent. A significant disruption or failure of our technology systems could result in service interruptions, safety failures, security events, regulatory compliance failures, an inability to protect information and assets against unauthorized users and other operational difficulties. Attacks perpetrated against our systems could result in loss of assets and critical information and expose us to remediation costs and reputational damage.\\\n",
    "Although we have taken steps intended to mitigate these risks, including business continuity planning, disaster recovery planning and business impact analysis, a significant disruption or cyber intrusion at one or more of our significant operations could adversely affect our results of operations, financial condition and liquidity. Additionally, if we are unable to acquire, develop, implement, adopt or protect rights around new technology, we may suffer a competitive disadvantage, which could also have an adverse effect on our results of operations, financial condition and/or liquidity.\\\n",
    "Cyber-attacks could further adversely affect our ability to operate facilities, information technology and business systems or compromise confidential customer and employee information. Political, economic, social or financial market instability or damage to or interference with our operating assets, customers or suppliers from cyber-attacks may result in business interruptions, lost revenues, higher commodity prices, disruption in fuel supplies, lower energy consumption, unstable markets, increased security, repair or other costs, or may materially adversely affect us in ways that cannot be predicted at this time. Any of these risks could materially affect our consolidated financial results. Furthermore, instability in the financial markets resulting from terrorism, sustained or significant cyber-attacks or war could also have a material adverse effect on our ability to raise capital. We share these risks with all businesses.\\\n",
    "\")\n",
    "print(output)"
   ]
  },
  {
   "cell_type": "code",
   "execution_count": null,
   "id": "9226dbc4",
   "metadata": {},
   "outputs": [],
   "source": []
  },
  {
   "cell_type": "code",
   "execution_count": null,
   "id": "e02267b0",
   "metadata": {},
   "outputs": [],
   "source": []
  },
  {
   "cell_type": "code",
   "execution_count": null,
   "id": "f14f9acd",
   "metadata": {},
   "outputs": [],
   "source": []
  },
  {
   "cell_type": "code",
   "execution_count": null,
   "id": "859858ff",
   "metadata": {},
   "outputs": [],
   "source": []
  },
  {
   "cell_type": "code",
   "execution_count": 63,
   "id": "1e81273a",
   "metadata": {},
   "outputs": [
    {
     "name": "stdout",
     "output_type": "stream",
     "text": [
      "[{'generated_text': 'We have taken several steps to mitigate the cyber security risk, including business continuity planning, disaster recovery planning and business impact analysis. We also have implemented rigorous security measures to protect our information technology and systems. However, despite our efforts, the cyber security risks to our company could adversely affect our ability to operate, including our commodities-related businesses, our information technology and business systems or confidential customer and employee information. Additionally, political, economic, social or financial market instability or damage to or interference with our operating assets, customers or suppliers could adversely affect our operating results.'}]\n"
     ]
    }
   ],
   "source": [
    "output = generate_text(\"Summarize what steps have been taken to mitigate the cyber security risk?\\\n",
    "Cyber security risks\\\n",
    "We rely on technology in virtually all aspects of our business. Like those of many large businesses, certain of our information systems have been subject to computer viruses, malicious codes, unauthorized access, phishing efforts, denial-of- service attacks and other cyber-attacks. We expect to be subject to similar attacks in the future as such attacks become more sophisticated and frequent. A significant disruption or failure of our technology systems could result in service interruptions, safety failures, security events, regulatory compliance failures, an inability to protect information and assets against unauthorized users and other operational difficulties. Attacks perpetrated against our systems could result in loss of assets and critical information and expose us to remediation costs and reputational damage.\\\n",
    "Although we have taken steps intended to mitigate these risks, including business continuity planning, disaster recovery planning and business impact analysis, a significant disruption or cyber intrusion at one or more of our significant operations could adversely affect our results of operations, financial condition and liquidity. Additionally, if we are unable to acquire, develop, implement, adopt or protect rights around new technology, we may suffer a competitive disadvantage, which could also have an adverse effect on our results of operations, financial condition and/or liquidity.\\\n",
    "Cyber-attacks could further adversely affect our ability to operate facilities, information technology and business systems or compromise confidential customer and employee information. Political, economic, social or financial market instability or damage to or interference with our operating assets, customers or suppliers from cyber-attacks may result in business interruptions, lost revenues, higher commodity prices, disruption in fuel supplies, lower energy consumption, unstable markets, increased security, repair or other costs, or may materially adversely affect us in ways that cannot be predicted at this time. Any of these risks could materially affect our consolidated financial results. Furthermore, instability in the financial markets resulting from terrorism, sustained or significant cyber-attacks or war could also have a material adverse effect on our ability to raise capital. We share these risks with all businesses.\\\n",
    "\")\n",
    "print(output)"
   ]
  },
  {
   "cell_type": "code",
   "execution_count": null,
   "id": "e9dc36aa",
   "metadata": {},
   "outputs": [],
   "source": []
  }
 ],
 "metadata": {
  "kernelspec": {
   "display_name": "Python [conda env:pytorch110_p38_gpu_v1]",
   "language": "python",
   "name": "conda-env-pytorch110_p38_gpu_v1-py"
  },
  "language_info": {
   "codemirror_mode": {
    "name": "ipython",
    "version": 3
   },
   "file_extension": ".py",
   "mimetype": "text/x-python",
   "name": "python",
   "nbconvert_exporter": "python",
   "pygments_lexer": "ipython3",
   "version": "3.8.13"
  }
 },
 "nbformat": 4,
 "nbformat_minor": 5
}
